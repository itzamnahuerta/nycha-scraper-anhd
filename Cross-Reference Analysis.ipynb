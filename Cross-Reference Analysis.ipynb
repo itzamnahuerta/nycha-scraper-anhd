{
 "cells": [
  {
   "cell_type": "markdown",
   "id": "40a84aef",
   "metadata": {},
   "source": [
    "\n",
    "\n",
    "## NYCHA Property Directory Block and Lot Guide Parser: Cross-Referencing Records with the JustFix Script\n",
    "\n",
    "**Developed by**: Itzamna Huerta, for the Association for Neighborhood and Housing Development (ANHD)  \n",
    "**Created**: September 2024  \n",
    "**Last Updated**: N/A  \n",
    "**2024 (JUSTFIX)**: [NYCHA Block and Lot CSV](https://github.com/JustFixNYC/nycha-scraper/blob/master/data/2024/Block-and-Lot-Guide-01012024.csv)\n",
    "\n",
    "---\n",
    "\n",
    "### Overview:\n",
    "\n",
    "This script is designed to compare the records extracted from the NYCHA Property Directory Block and Lot Guide PDF with the data from the 2024 JustFix dataset. There’s a noticeable difference in the number of records between the two sources, and the goal of this script is to identify any rows that may have been missed during extraction and to determine if updates or adjustments are needed in the script to capture all data accurately.\n",
    "\n",
    "### Initial Findings:\n",
    "The result shows that 1,261 rows from the JustFix dataset are missing in the ANHD dataset, and 319 rows from the ANHD dataset are missing in the JustFix dataset. \n"
   ]
  },
  {
   "cell_type": "code",
   "execution_count": 1,
   "id": "2d6241ed",
   "metadata": {},
   "outputs": [],
   "source": [
    "# Import Libraries\n",
    "import pandas as pd"
   ]
  },
  {
   "cell_type": "code",
   "execution_count": 2,
   "id": "62870836",
   "metadata": {},
   "outputs": [],
   "source": [
    "justfix_df = pd.read_csv('./2024/justfix/Block-and-Lot-Guide-01012024-JustFix.csv')\n",
    "\n",
    "anhd_df = pd.read_csv('./2024/Block-and-Lot-Guide-01012024-ANHD.csv')"
   ]
  },
  {
   "cell_type": "code",
   "execution_count": 3,
   "id": "f09803c4",
   "metadata": {},
   "outputs": [
    {
     "name": "stdout",
     "output_type": "stream",
     "text": [
      "Total Records for Justfix:  4519\n",
      "Total Records for ANHD:     4519\n"
     ]
    }
   ],
   "source": [
    "# This is a 943 difference in data\n",
    "\n",
    "print(\"Total Records for Justfix: \", justfix_df.shape[0])\n",
    "print(\"Total Records for ANHD:    \", anhd_df.shape[0])"
   ]
  },
  {
   "cell_type": "code",
   "execution_count": 4,
   "id": "150354bd",
   "metadata": {},
   "outputs": [],
   "source": [
    "# Specify the key column\n",
    "key_column = 'ADDRESS'\n",
    "\n",
    "# Find missing rows in anhd_df compared to justfix_df\n",
    "missing_in_justfix = anhd_df.merge(justfix_df[[key_column]], on=key_column, how='left', indicator=True)\n",
    "missing_in_justfix = missing_in_justfix[missing_in_justfix['_merge'] == 'left_only']\n",
    "\n",
    "# Find missing rows in justfix_df compared to anhd_df\n",
    "missing_in_anhd = justfix_df.merge(anhd_df[[key_column]], on=key_column, how='left', indicator=True)\n",
    "missing_in_anhd = missing_in_anhd[missing_in_anhd['_merge'] == 'left_only']\n",
    "\n"
   ]
  },
  {
   "cell_type": "code",
   "execution_count": 5,
   "id": "e0391094",
   "metadata": {},
   "outputs": [
    {
     "name": "stdout",
     "output_type": "stream",
     "text": [
      "Full rows in ANHD not in Justfix:\n"
     ]
    },
    {
     "data": {
      "text/html": [
       "<div>\n",
       "<style scoped>\n",
       "    .dataframe tbody tr th:only-of-type {\n",
       "        vertical-align: middle;\n",
       "    }\n",
       "\n",
       "    .dataframe tbody tr th {\n",
       "        vertical-align: top;\n",
       "    }\n",
       "\n",
       "    .dataframe thead th {\n",
       "        text-align: right;\n",
       "    }\n",
       "</style>\n",
       "<table border=\"1\" class=\"dataframe\">\n",
       "  <thead>\n",
       "    <tr style=\"text-align: right;\">\n",
       "      <th></th>\n",
       "      <th>BOROUGH</th>\n",
       "      <th>BLOCK</th>\n",
       "      <th>LOT</th>\n",
       "      <th>ADDRESS</th>\n",
       "      <th>ZIP CODE</th>\n",
       "      <th>DEVELOPMENT</th>\n",
       "      <th>MANAGED BY</th>\n",
       "      <th>CD#</th>\n",
       "      <th>FACILITY</th>\n",
       "      <th>_merge</th>\n",
       "    </tr>\n",
       "  </thead>\n",
       "  <tbody>\n",
       "    <tr>\n",
       "      <th>1323</th>\n",
       "      <td>BROOKLYN</td>\n",
       "      <td>2050</td>\n",
       "      <td>1</td>\n",
       "      <td>BED OF FLEET STREET</td>\n",
       "      <td>11201</td>\n",
       "      <td>INGERSOLL</td>\n",
       "      <td>INGERSOLL</td>\n",
       "      <td>2</td>\n",
       "      <td>COMMERCIAL SPACE PARKING LOT</td>\n",
       "      <td>left_only</td>\n",
       "    </tr>\n",
       "  </tbody>\n",
       "</table>\n",
       "</div>"
      ],
      "text/plain": [
       "       BOROUGH  BLOCK  LOT              ADDRESS  ZIP CODE DEVELOPMENT  \\\n",
       "1323  BROOKLYN   2050    1  BED OF FLEET STREET     11201   INGERSOLL   \n",
       "\n",
       "     MANAGED BY  CD#                      FACILITY     _merge  \n",
       "1323  INGERSOLL    2  COMMERCIAL SPACE PARKING LOT  left_only  "
      ]
     },
     "execution_count": 5,
     "metadata": {},
     "output_type": "execute_result"
    }
   ],
   "source": [
    "# Display results with full DataFrame rows\n",
    "print(\"Full rows in ANHD not in Justfix:\")\n",
    "missing_in_justfix"
   ]
  },
  {
   "cell_type": "code",
   "execution_count": 6,
   "id": "ab85d22c",
   "metadata": {},
   "outputs": [
    {
     "name": "stdout",
     "output_type": "stream",
     "text": [
      "\n",
      "Full rows in Justfix not in ANHD:\n"
     ]
    },
    {
     "data": {
      "text/html": [
       "<div>\n",
       "<style scoped>\n",
       "    .dataframe tbody tr th:only-of-type {\n",
       "        vertical-align: middle;\n",
       "    }\n",
       "\n",
       "    .dataframe tbody tr th {\n",
       "        vertical-align: top;\n",
       "    }\n",
       "\n",
       "    .dataframe thead th {\n",
       "        text-align: right;\n",
       "    }\n",
       "</style>\n",
       "<table border=\"1\" class=\"dataframe\">\n",
       "  <thead>\n",
       "    <tr style=\"text-align: right;\">\n",
       "      <th></th>\n",
       "      <th>BOROUGH</th>\n",
       "      <th>BLOCK</th>\n",
       "      <th>LOT</th>\n",
       "      <th>ADDRESS</th>\n",
       "      <th>ZIP CODE</th>\n",
       "      <th>DEVELOPMENT</th>\n",
       "      <th>MANAGED BY</th>\n",
       "      <th>CD#</th>\n",
       "      <th>FACILITY</th>\n",
       "      <th>_merge</th>\n",
       "    </tr>\n",
       "  </thead>\n",
       "  <tbody>\n",
       "    <tr>\n",
       "      <th>1718</th>\n",
       "      <td>BROOKLYN</td>\n",
       "      <td>2050</td>\n",
       "      <td>1</td>\n",
       "      <td>BED OF FLEET STREET</td>\n",
       "      <td>11201</td>\n",
       "      <td>INGERSOLL</td>\n",
       "      <td>INGERSOLL</td>\n",
       "      <td>2</td>\n",
       "      <td>COMMERCIAL SPACE PARKING LOT</td>\n",
       "      <td>left_only</td>\n",
       "    </tr>\n",
       "  </tbody>\n",
       "</table>\n",
       "</div>"
      ],
      "text/plain": [
       "       BOROUGH  BLOCK  LOT               ADDRESS  ZIP CODE DEVELOPMENT  \\\n",
       "1718  BROOKLYN   2050    1   BED OF FLEET STREET     11201   INGERSOLL   \n",
       "\n",
       "     MANAGED BY  CD#                      FACILITY     _merge  \n",
       "1718  INGERSOLL    2  COMMERCIAL SPACE PARKING LOT  left_only  "
      ]
     },
     "execution_count": 6,
     "metadata": {},
     "output_type": "execute_result"
    }
   ],
   "source": [
    "print(\"\\nFull rows in Justfix not in ANHD:\")\n",
    "missing_in_anhd"
   ]
  },
  {
   "cell_type": "code",
   "execution_count": null,
   "id": "81b4f19a",
   "metadata": {},
   "outputs": [],
   "source": []
  }
 ],
 "metadata": {
  "kernelspec": {
   "display_name": "Python 3.10.12 64-bit",
   "language": "python",
   "name": "python31012jvsc74a57bd0bd385fe162c5ca0c84973b7dd5c518456272446b2b64e67c2a69f949ca7a1754"
  },
  "language_info": {
   "codemirror_mode": {
    "name": "ipython",
    "version": 3
   },
   "file_extension": ".py",
   "mimetype": "text/x-python",
   "name": "python",
   "nbconvert_exporter": "python",
   "pygments_lexer": "ipython3",
   "version": "3.10.12"
  }
 },
 "nbformat": 4,
 "nbformat_minor": 5
}
